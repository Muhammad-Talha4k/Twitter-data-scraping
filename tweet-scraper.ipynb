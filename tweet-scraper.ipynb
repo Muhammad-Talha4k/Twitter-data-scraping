{
 "cells": [
  {
   "cell_type": "code",
   "execution_count": 14,
   "id": "f290f7f3",
   "metadata": {
    "scrolled": true
   },
   "outputs": [],
   "source": [
    "import pandas as pd\n",
    "from tqdm.notebook import tqdm\n",
    "import snscrape.modules.twitter as sntwitter"
   ]
  },
  {
   "cell_type": "code",
   "execution_count": null,
   "id": "8b5c8564",
   "metadata": {},
   "outputs": [],
   "source": [
    "scraper = sntwitter .TwitterSearchScraper('write any keyword or sentence that you want to scrpe')\n",
    "tweets = []\n",
    "for i,tweet in enumerate(scraper.get_items()):\n",
    "   \n",
    "    data = [ tweet.content]\n",
    "    tweets.append(data)\n",
    "    if i>3000:\n",
    "        break\n",
    "        "
   ]
  },
  {
   "cell_type": "code",
   "execution_count": 16,
   "id": "1c8212c3",
   "metadata": {},
   "outputs": [],
   "source": [
    "tweet_df = pd.DataFrame(tweets, columns=['content'])"
   ]
  },
  {
   "cell_type": "code",
   "execution_count": 17,
   "id": "bef5a221",
   "metadata": {},
   "outputs": [],
   "source": [
    "tweet_df.to_csv('data1.csv')"
   ]
  },
  {
   "cell_type": "code",
   "execution_count": null,
   "id": "6269e85f",
   "metadata": {},
   "outputs": [],
   "source": []
  }
 ],
 "metadata": {
  "kernelspec": {
   "display_name": "Python 3 (ipykernel)",
   "language": "python",
   "name": "python3"
  },
  "language_info": {
   "codemirror_mode": {
    "name": "ipython",
    "version": 3
   },
   "file_extension": ".py",
   "mimetype": "text/x-python",
   "name": "python",
   "nbconvert_exporter": "python",
   "pygments_lexer": "ipython3",
   "version": "3.9.7"
  }
 },
 "nbformat": 4,
 "nbformat_minor": 5
}
